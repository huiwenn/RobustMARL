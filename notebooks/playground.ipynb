{
 "cells": [
  {
   "cell_type": "code",
   "execution_count": 1,
   "metadata": {},
   "outputs": [],
   "source": [
    "import wandb\n",
    "import os\n",
    "\n"
   ]
  },
  {
   "cell_type": "markdown",
   "metadata": {},
   "source": [
    "Saved in \n",
    "\n",
    "`onpolicy/results/GraphMPE/navigation_graph/rmappo/informarl/wandb`\n",
    "\n",
    "to run evaluation script, use:\n",
    "\n",
    "```\n",
    "xvfb-run -a -s \"-screen 0 1400x900x24\" python -u onpolicy/scripts/eval_mpe.py --model_dir onpolicy/results/GraphMPE/navigation_graph/rmappo/informarl/wandb/run-20250312_024502-j08n9m0q/files\n",
    "\n",
    "python onpolicy/scripts/eval_mpe.py --model_dir onpolicy/trained_models/informarl_3agents_target/files\n",
    "```\n",
    "\n"
   ]
  },
  {
   "cell_type": "code",
   "execution_count": 2,
   "metadata": {},
   "outputs": [
    {
     "data": {
      "text/plain": [
       "CocoaWindow=(width=1280, height=720)"
      ]
     },
     "execution_count": 2,
     "metadata": {},
     "output_type": "execute_result"
    }
   ],
   "source": [
    "import pyglet\n",
    "pyglet.window.Window()"
   ]
  },
  {
   "cell_type": "markdown",
   "metadata": {},
   "source": [
    "- 3 agents at \n",
    "> `onpolicy/results/GraphMPE/navigation_graph/rmappo/informarl/wandb/run-20250312_024502-j08n9m0q/files`"
   ]
  },
  {
   "cell_type": "code",
   "execution_count": 3,
   "metadata": {},
   "outputs": [
    {
     "name": "stdout",
     "output_type": "stream",
     "text": [
      "2.5.1\n"
     ]
    }
   ],
   "source": [
    "import torch\n",
    "print(torch.__version__)"
   ]
  }
 ],
 "metadata": {
  "kernelspec": {
   "display_name": "Python (marl)",
   "language": "python",
   "name": "marl"
  },
  "language_info": {
   "codemirror_mode": {
    "name": "ipython",
    "version": 3
   },
   "file_extension": ".py",
   "mimetype": "text/x-python",
   "name": "python",
   "nbconvert_exporter": "python",
   "pygments_lexer": "ipython3",
   "version": "3.10.16"
  }
 },
 "nbformat": 4,
 "nbformat_minor": 4
}
