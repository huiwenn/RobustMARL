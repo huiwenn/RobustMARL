{
 "cells": [
  {
   "cell_type": "code",
   "execution_count": 116,
   "metadata": {},
   "outputs": [
    {
     "name": "stdout",
     "output_type": "stream",
     "text": [
      "The autoreload extension is already loaded. To reload it, use:\n",
      "  %reload_ext autoreload\n"
     ]
    }
   ],
   "source": [
    "import wandb\n",
    "import os\n",
    "\n",
    "# auto reload\n",
    "%load_ext autoreload\n",
    "%autoreload 2\n"
   ]
  },
  {
   "cell_type": "markdown",
   "metadata": {},
   "source": [
    "## Test code"
   ]
  },
  {
   "cell_type": "markdown",
   "metadata": {},
   "source": [
    "results are saved in \n",
    "> `onpolicy/results/GraphMPE/navigation_graph/rmappo/informarl/wandb`\n",
    "\n",
    "to run evaluation script, use:\n",
    "\n",
    "```\n",
    "python onpolicy/scripts/eval_mpe.py --model_dir onpolicy/results/GraphMPE/navigation_graph/rmappo/MAPPO_5/wandb/latest-run/files --save_gifs False\n",
    "```\n",
    "\n",
    "currently does not work on server yet:\n",
    "\n",
    "xvfb-run -a -s \"-screen 0 1400x900x24\" python -u onpolicy/scripts/eval_mpe.py --model_dir onpolicy/results/GraphMPE/navigation_graph/rmappo/informarl/wandb/run-20250312_024502-j08n9m0q/files\n"
   ]
  },
  {
   "cell_type": "markdown",
   "metadata": {},
   "source": [
    "## Run training code"
   ]
  },
  {
   "cell_type": "markdown",
   "metadata": {},
   "source": [
    "```\n",
    "python -m onpolicy.scripts.train_mpe --use_valuenorm \\\n",
    "--use_popart --env_name \"GraphMPE\" --algorithm_name \"rmappo\" \\\n",
    "--project_name \"informarl_graph\" \\\n",
    "--experiment_name \"MAPPO_5\" \\\n",
    "--scenario_name \"navigation_graph\" \\\n",
    "--num_agents=5 \\\n",
    "--n_training_threads 1 --n_rollout_threads 128 --max_edge_dist 0.5 \\\n",
    "--num_mini_batch 1 --episode_length 25 --num_env_steps 10 \\\n",
    "--ppo_epoch 10 --use_ReLU --gain 0.01 --lr 7e-4 --critic_lr 7e-4 \\\n",
    "--user_name \"shs066-uc-san-diego\"\n",
    "```"
   ]
  },
  {
   "cell_type": "code",
   "execution_count": 2,
   "metadata": {},
   "outputs": [
    {
     "ename": "NoSuchDisplayException",
     "evalue": "Cannot connect to \"None\"",
     "output_type": "error",
     "traceback": [
      "\u001b[0;31m---------------------------------------------------------------------------\u001b[0m",
      "\u001b[0;31mAttributeError\u001b[0m                            Traceback (most recent call last)",
      "File \u001b[0;32m~/miniconda3/envs/rl/lib/python3.10/site-packages/pyglet/__init__.py:329\u001b[0m, in \u001b[0;36m_ModuleProxy.__getattr__\u001b[0;34m(self, name)\u001b[0m\n\u001b[1;32m    328\u001b[0m \u001b[38;5;28;01mtry\u001b[39;00m:\n\u001b[0;32m--> 329\u001b[0m     \u001b[38;5;28;01mreturn\u001b[39;00m \u001b[38;5;28;43mgetattr\u001b[39;49m\u001b[43m(\u001b[49m\u001b[38;5;28;43mself\u001b[39;49m\u001b[38;5;241;43m.\u001b[39;49m\u001b[43m_module\u001b[49m\u001b[43m,\u001b[49m\u001b[43m \u001b[49m\u001b[43mname\u001b[49m\u001b[43m)\u001b[49m\n\u001b[1;32m    330\u001b[0m \u001b[38;5;28;01mexcept\u001b[39;00m \u001b[38;5;167;01mAttributeError\u001b[39;00m:\n",
      "\u001b[0;31mAttributeError\u001b[0m: 'NoneType' object has no attribute 'Window'",
      "\nDuring handling of the above exception, another exception occurred:\n",
      "\u001b[0;31mNoSuchDisplayException\u001b[0m                    Traceback (most recent call last)",
      "Cell \u001b[0;32mIn[2], line 2\u001b[0m\n\u001b[1;32m      1\u001b[0m \u001b[38;5;28;01mimport\u001b[39;00m\u001b[38;5;250m \u001b[39m\u001b[38;5;21;01mpyglet\u001b[39;00m\n\u001b[0;32m----> 2\u001b[0m \u001b[43mpyglet\u001b[49m\u001b[38;5;241;43m.\u001b[39;49m\u001b[43mwindow\u001b[49m\u001b[38;5;241;43m.\u001b[39;49m\u001b[43mWindow\u001b[49m()\n",
      "File \u001b[0;32m~/miniconda3/envs/rl/lib/python3.10/site-packages/pyglet/__init__.py:335\u001b[0m, in \u001b[0;36m_ModuleProxy.__getattr__\u001b[0;34m(self, name)\u001b[0m\n\u001b[1;32m    332\u001b[0m     \u001b[38;5;28;01mraise\u001b[39;00m\n\u001b[1;32m    334\u001b[0m import_name \u001b[38;5;241m=\u001b[39m \u001b[38;5;124m'\u001b[39m\u001b[38;5;124mpyglet.\u001b[39m\u001b[38;5;132;01m%s\u001b[39;00m\u001b[38;5;124m'\u001b[39m \u001b[38;5;241m%\u001b[39m \u001b[38;5;28mself\u001b[39m\u001b[38;5;241m.\u001b[39m_module_name\n\u001b[0;32m--> 335\u001b[0m \u001b[38;5;28;43m__import__\u001b[39;49m\u001b[43m(\u001b[49m\u001b[43mimport_name\u001b[49m\u001b[43m)\u001b[49m\n\u001b[1;32m    336\u001b[0m module \u001b[38;5;241m=\u001b[39m sys\u001b[38;5;241m.\u001b[39mmodules[import_name]\n\u001b[1;32m    337\u001b[0m \u001b[38;5;28mobject\u001b[39m\u001b[38;5;241m.\u001b[39m\u001b[38;5;21m__setattr__\u001b[39m(\u001b[38;5;28mself\u001b[39m, \u001b[38;5;124m'\u001b[39m\u001b[38;5;124m_module\u001b[39m\u001b[38;5;124m'\u001b[39m, module)\n",
      "File \u001b[0;32m~/miniconda3/envs/rl/lib/python3.10/site-packages/pyglet/window/__init__.py:1880\u001b[0m\n\u001b[1;32m   1878\u001b[0m \u001b[38;5;28;01mif\u001b[39;00m \u001b[38;5;129;01mnot\u001b[39;00m _is_pyglet_doc_run:\n\u001b[1;32m   1879\u001b[0m     pyglet\u001b[38;5;241m.\u001b[39mwindow \u001b[38;5;241m=\u001b[39m sys\u001b[38;5;241m.\u001b[39mmodules[\u001b[38;5;18m__name__\u001b[39m]\n\u001b[0;32m-> 1880\u001b[0m     \u001b[43mgl\u001b[49m\u001b[38;5;241;43m.\u001b[39;49m\u001b[43m_create_shadow_window\u001b[49m\u001b[43m(\u001b[49m\u001b[43m)\u001b[49m\n",
      "File \u001b[0;32m~/miniconda3/envs/rl/lib/python3.10/site-packages/pyglet/gl/__init__.py:220\u001b[0m, in \u001b[0;36m_create_shadow_window\u001b[0;34m()\u001b[0m\n\u001b[1;32m    217\u001b[0m     \u001b[38;5;28;01mreturn\u001b[39;00m\n\u001b[1;32m    219\u001b[0m \u001b[38;5;28;01mfrom\u001b[39;00m\u001b[38;5;250m \u001b[39m\u001b[38;5;21;01mpyglet\u001b[39;00m\u001b[38;5;21;01m.\u001b[39;00m\u001b[38;5;21;01mwindow\u001b[39;00m\u001b[38;5;250m \u001b[39m\u001b[38;5;28;01mimport\u001b[39;00m Window\n\u001b[0;32m--> 220\u001b[0m _shadow_window \u001b[38;5;241m=\u001b[39m \u001b[43mWindow\u001b[49m\u001b[43m(\u001b[49m\u001b[43mwidth\u001b[49m\u001b[38;5;241;43m=\u001b[39;49m\u001b[38;5;241;43m1\u001b[39;49m\u001b[43m,\u001b[49m\u001b[43m \u001b[49m\u001b[43mheight\u001b[49m\u001b[38;5;241;43m=\u001b[39;49m\u001b[38;5;241;43m1\u001b[39;49m\u001b[43m,\u001b[49m\u001b[43m \u001b[49m\u001b[43mvisible\u001b[49m\u001b[38;5;241;43m=\u001b[39;49m\u001b[38;5;28;43;01mFalse\u001b[39;49;00m\u001b[43m)\u001b[49m\n\u001b[1;32m    221\u001b[0m _shadow_window\u001b[38;5;241m.\u001b[39mswitch_to()\n\u001b[1;32m    223\u001b[0m \u001b[38;5;28;01mfrom\u001b[39;00m\u001b[38;5;250m \u001b[39m\u001b[38;5;21;01mpyglet\u001b[39;00m\u001b[38;5;250m \u001b[39m\u001b[38;5;28;01mimport\u001b[39;00m app\n",
      "File \u001b[0;32m~/miniconda3/envs/rl/lib/python3.10/site-packages/pyglet/window/xlib/__init__.py:165\u001b[0m, in \u001b[0;36mXlibWindow.__init__\u001b[0;34m(self, *args, **kwargs)\u001b[0m\n\u001b[1;32m    162\u001b[0m         \u001b[38;5;28;01melse\u001b[39;00m:\n\u001b[1;32m    163\u001b[0m             \u001b[38;5;28mself\u001b[39m\u001b[38;5;241m.\u001b[39m_event_handlers[message] \u001b[38;5;241m=\u001b[39m func\n\u001b[0;32m--> 165\u001b[0m \u001b[38;5;28;43msuper\u001b[39;49m\u001b[43m(\u001b[49m\u001b[43mXlibWindow\u001b[49m\u001b[43m,\u001b[49m\u001b[43m \u001b[49m\u001b[38;5;28;43mself\u001b[39;49m\u001b[43m)\u001b[49m\u001b[38;5;241;43m.\u001b[39;49m\u001b[38;5;21;43m__init__\u001b[39;49m\u001b[43m(\u001b[49m\u001b[38;5;241;43m*\u001b[39;49m\u001b[43margs\u001b[49m\u001b[43m,\u001b[49m\u001b[43m \u001b[49m\u001b[38;5;241;43m*\u001b[39;49m\u001b[38;5;241;43m*\u001b[39;49m\u001b[43mkwargs\u001b[49m\u001b[43m)\u001b[49m\n\u001b[1;32m    167\u001b[0m \u001b[38;5;28;01mglobal\u001b[39;00m _can_detect_autorepeat\n\u001b[1;32m    168\u001b[0m \u001b[38;5;28;01mif\u001b[39;00m _can_detect_autorepeat \u001b[38;5;129;01mis\u001b[39;00m \u001b[38;5;28;01mNone\u001b[39;00m:\n",
      "File \u001b[0;32m~/miniconda3/envs/rl/lib/python3.10/site-packages/pyglet/window/__init__.py:570\u001b[0m, in \u001b[0;36mBaseWindow.__init__\u001b[0;34m(self, width, height, caption, resizable, style, fullscreen, visible, vsync, display, screen, config, context, mode)\u001b[0m\n\u001b[1;32m    567\u001b[0m \u001b[38;5;28mself\u001b[39m\u001b[38;5;241m.\u001b[39m_event_queue \u001b[38;5;241m=\u001b[39m []\n\u001b[1;32m    569\u001b[0m \u001b[38;5;28;01mif\u001b[39;00m \u001b[38;5;129;01mnot\u001b[39;00m display:\n\u001b[0;32m--> 570\u001b[0m     display \u001b[38;5;241m=\u001b[39m \u001b[43mpyglet\u001b[49m\u001b[38;5;241;43m.\u001b[39;49m\u001b[43mcanvas\u001b[49m\u001b[38;5;241;43m.\u001b[39;49m\u001b[43mget_display\u001b[49m\u001b[43m(\u001b[49m\u001b[43m)\u001b[49m\n\u001b[1;32m    572\u001b[0m \u001b[38;5;28;01mif\u001b[39;00m \u001b[38;5;129;01mnot\u001b[39;00m screen:\n\u001b[1;32m    573\u001b[0m     screen \u001b[38;5;241m=\u001b[39m display\u001b[38;5;241m.\u001b[39mget_default_screen()\n",
      "File \u001b[0;32m~/miniconda3/envs/rl/lib/python3.10/site-packages/pyglet/canvas/__init__.py:94\u001b[0m, in \u001b[0;36mget_display\u001b[0;34m()\u001b[0m\n\u001b[1;32m     91\u001b[0m     \u001b[38;5;28;01mreturn\u001b[39;00m display\n\u001b[1;32m     93\u001b[0m \u001b[38;5;66;03m# Otherwise, create a new display and return it.\u001b[39;00m\n\u001b[0;32m---> 94\u001b[0m \u001b[38;5;28;01mreturn\u001b[39;00m \u001b[43mDisplay\u001b[49m\u001b[43m(\u001b[49m\u001b[43m)\u001b[49m\n",
      "File \u001b[0;32m~/miniconda3/envs/rl/lib/python3.10/site-packages/pyglet/canvas/xlib.py:123\u001b[0m, in \u001b[0;36mXlibDisplay.__init__\u001b[0;34m(self, name, x_screen)\u001b[0m\n\u001b[1;32m    121\u001b[0m \u001b[38;5;28mself\u001b[39m\u001b[38;5;241m.\u001b[39m_display \u001b[38;5;241m=\u001b[39m xlib\u001b[38;5;241m.\u001b[39mXOpenDisplay(name)\n\u001b[1;32m    122\u001b[0m \u001b[38;5;28;01mif\u001b[39;00m \u001b[38;5;129;01mnot\u001b[39;00m \u001b[38;5;28mself\u001b[39m\u001b[38;5;241m.\u001b[39m_display:\n\u001b[0;32m--> 123\u001b[0m     \u001b[38;5;28;01mraise\u001b[39;00m NoSuchDisplayException(\u001b[38;5;124m'\u001b[39m\u001b[38;5;124mCannot connect to \u001b[39m\u001b[38;5;124m\"\u001b[39m\u001b[38;5;132;01m%s\u001b[39;00m\u001b[38;5;124m\"\u001b[39m\u001b[38;5;124m'\u001b[39m \u001b[38;5;241m%\u001b[39m name)\n\u001b[1;32m    125\u001b[0m screen_count \u001b[38;5;241m=\u001b[39m xlib\u001b[38;5;241m.\u001b[39mXScreenCount(\u001b[38;5;28mself\u001b[39m\u001b[38;5;241m.\u001b[39m_display)\n\u001b[1;32m    126\u001b[0m \u001b[38;5;28;01mif\u001b[39;00m x_screen \u001b[38;5;241m>\u001b[39m\u001b[38;5;241m=\u001b[39m screen_count:\n",
      "\u001b[0;31mNoSuchDisplayException\u001b[0m: Cannot connect to \"None\""
     ]
    }
   ],
   "source": [
    "import pyglet\n",
    "pyglet.window.Window()"
   ]
  },
  {
   "cell_type": "markdown",
   "metadata": {},
   "source": []
  },
  {
   "cell_type": "markdown",
   "metadata": {},
   "source": []
  },
  {
   "cell_type": "code",
   "execution_count": 3,
   "metadata": {},
   "outputs": [
    {
     "name": "stdout",
     "output_type": "stream",
     "text": [
      "2.5.1\n"
     ]
    }
   ],
   "source": [
    "import torch\n",
    "print(torch.__version__)"
   ]
  },
  {
   "cell_type": "code",
   "execution_count": null,
   "metadata": {},
   "outputs": [],
   "source": []
  },
  {
   "cell_type": "markdown",
   "metadata": {},
   "source": [
    "## Test noise levels"
   ]
  },
  {
   "cell_type": "code",
   "execution_count": 8,
   "metadata": {},
   "outputs": [],
   "source": [
    "import argparse\n",
    "import numpy as np\n",
    "import matplotlib.pyplot as plt\n",
    "from distutils.util import strtobool\n",
    "import os, sys\n",
    "import copy\n",
    "sys.path.append(os.path.abspath(os.getcwd()))\n",
    "sys.path.append(os.path.abspath(os.path.join(os.getcwd(), '..')))\n",
    "\n"
   ]
  },
  {
   "cell_type": "code",
   "execution_count": 3,
   "metadata": {},
   "outputs": [],
   "source": [
    "from multiagent.MPE_env import GraphMPEEnv, NoisyGraphMPEEnv\n",
    "from multiagent.custom_scenarios import load"
   ]
  },
  {
   "cell_type": "code",
   "execution_count": 104,
   "metadata": {},
   "outputs": [],
   "source": [
    "\n",
    "from gym import spaces\n",
    "from multiagent.multi_discrete import MultiDiscrete\n",
    "\n",
    "class Args:\n",
    "    def __init__(self):\n",
    "        self.scenario_name = \"navigation_graph\"\n",
    "        self.num_agents = 3\n",
    "        self.world_size = 2\n",
    "        self.num_scripted_agents = 0\n",
    "        self.num_obstacles = 3\n",
    "        self.collaborative = True\n",
    "        self.max_speed = 2\n",
    "        self.collision_rew = 5\n",
    "        self.goal_rew = 5\n",
    "        self.min_dist_thresh = 0.1\n",
    "        self.use_dones = False\n",
    "        self.episode_length = 25\n",
    "        self.max_edge_dist = 1\n",
    "        self.graph_feat_type = \"global\"\n",
    "        self.seed = 42\n",
    "\n",
    "def create_env(args, obs_noise=0.0, dyn_noise=0.0):\n",
    "    args.obs_noise_level = obs_noise\n",
    "    args.dyn_noise_level = dyn_noise\n",
    "    if obs_noise > 0 or dyn_noise > 0:\n",
    "        return NoisyGraphMPEEnv(args)\n",
    "    else:\n",
    "        return GraphMPEEnv(args)\n",
    "\n",
    "\n",
    "def test_observation_noise(obs_noise_levels, steps=10):\n",
    "    \"\"\"Test how observation noise affects agent observations\"\"\"\n",
    "    results = {}\n",
    "    \n",
    "    for noise_level in obs_noise_levels:\n",
    "        position_diffs = []\n",
    "        reward_diffs = []\n",
    "        \n",
    "        for _ in range(5):  # 5 episodes\n",
    "            # Create clean and noisy envs\n",
    "            clean_env = create_env(args)\n",
    "            noisy_env = create_env(args, obs_noise=noise_level)\n",
    "            \n",
    "            # Reset both to same initial state\n",
    "            clean_env.reset()\n",
    "            noisy_env.reset()\n",
    "            noisy_env.world = copy.deepcopy(clean_env.world)\n",
    "            \n",
    "            for _ in range(steps):\n",
    "                # Take same random actions in both envs\n",
    "                actions = generate_random_actions(args.num_agents, clean_env.action_space[0]) \n",
    "                           \n",
    "                # Step clean env\n",
    "                _, _, _, _, clean_rewards, _, _ = clean_env.step(actions)\n",
    "                \n",
    "                # Step noisy env with same actions\n",
    "                _, _, _, _, noisy_rewards, _, _ = noisy_env.step(actions)\n",
    "                \n",
    "                # Measure position differences\n",
    "                pos_diffs = []\n",
    "                for i in range(args.num_agents):\n",
    "                    clean_pos = clean_env.world.agents[i].state.p_pos\n",
    "                    noisy_pos = noisy_env.world.agents[i].state.p_pos\n",
    "                    pos_diff = np.linalg.norm(clean_pos - noisy_pos)\n",
    "                    pos_diffs.append(pos_diff)\n",
    "                \n",
    "                # Measure reward differences\n",
    "                rew_diffs = []\n",
    "                for i in range(args.num_agents):\n",
    "                    rew_diff = sum(clean_rewards[i]) - sum(noisy_rewards[i])\n",
    "                    rew_diffs.append(rew_diff)\n",
    "                \n",
    "                position_diffs.append(np.mean(pos_diffs))\n",
    "                reward_diffs.append(np.mean(rew_diffs))\n",
    "        \n",
    "        results[noise_level] = {\n",
    "            'position_diff': np.mean(position_diffs),\n",
    "            'reward_diff': np.mean(reward_diffs)\n",
    "        }\n",
    "    return results\n",
    "\n",
    "def test_dynamics_noise(dyn_noise_levels, steps=10):\n",
    "    \"\"\"Test how dynamics noise affects agent positions over time\"\"\"\n",
    "    results = {}\n",
    "    \n",
    "    for noise_level in dyn_noise_levels:\n",
    "        position_diffs = []\n",
    "        reward_diffs = []\n",
    "        \n",
    "        for _ in range(5):  # 5 episodes\n",
    "            # Create clean and noisy envs\n",
    "            clean_env = create_env(args)\n",
    "            noisy_env = create_env(args, dyn_noise=noise_level)\n",
    "            \n",
    "            # Reset both to same initial state\n",
    "            clean_env.reset()\n",
    "            noisy_env.reset()\n",
    "            noisy_env.world = copy.deepcopy(clean_env.world)\n",
    "            \n",
    "            for _ in range(steps):\n",
    "                # Take same random actions in both envs\n",
    "                actions = generate_random_actions(args.num_agents, clean_env.action_space[0]) \n",
    "                # Step clean env\n",
    "                _, _, _, _, clean_rewards, _, _ = clean_env.step(actions)\n",
    "                \n",
    "                # Step noisy env with same actions\n",
    "                _, _, _, _, noisy_rewards, _, _ = noisy_env.step(actions)\n",
    "                \n",
    "                # Measure position differences\n",
    "                pos_diffs = []\n",
    "                for i in range(args.num_agents):\n",
    "                    clean_pos = clean_env.world.agents[i].state.p_pos\n",
    "                    noisy_pos = noisy_env.world.agents[i].state.p_pos\n",
    "                    pos_diff = np.linalg.norm(clean_pos - noisy_pos)\n",
    "                    pos_diffs.append(pos_diff)\n",
    "                \n",
    "                # Measure reward differences\n",
    "                rew_diffs = []\n",
    "                for i in range(args.num_agents):\n",
    "                    rew_diff = sum(clean_rewards[i]) - sum(noisy_rewards[i])\n",
    "                    rew_diffs.append(rew_diff)\n",
    "                \n",
    "                position_diffs.append(np.mean(pos_diffs))\n",
    "                reward_diffs.append(np.mean(rew_diffs))\n",
    "        \n",
    "        results[noise_level] = {\n",
    "            'position_diff': np.mean(position_diffs),\n",
    "            'reward_diff': np.mean(reward_diffs)\n",
    "        }\n",
    "        \n",
    "    return results\n",
    "\n",
    "def plot_results(obs_results, dyn_results):\n",
    "    \"\"\"Plot the results of noise testing\"\"\"\n",
    "    fig, axs = plt.subplots(2, 2, figsize=(12, 10))\n",
    "    \n",
    "    # Plot observation noise results\n",
    "    obs_levels = sorted(obs_results.keys())\n",
    "    pos_diffs = [obs_results[l]['position_diff'] for l in obs_levels]\n",
    "    rew_diffs = [obs_results[l]['reward_diff'] for l in obs_levels]\n",
    "    \n",
    "    axs[0, 0].plot(obs_levels, pos_diffs, 'o-')\n",
    "    axs[0, 0].set_title('Observation Noise Impact on Position')\n",
    "    axs[0, 0].set_xlabel('Noise Level (std)')\n",
    "    axs[0, 0].set_ylabel('Average Position Difference')\n",
    "    \n",
    "    axs[0, 1].plot(obs_levels, rew_diffs, 'o-')\n",
    "    axs[0, 1].set_title('Observation Noise Impact on Reward')\n",
    "    axs[0, 1].set_xlabel('Noise Level (std)')\n",
    "    axs[0, 1].set_ylabel('Average Reward Difference')\n",
    "    \n",
    "    # Plot dynamics noise results\n",
    "    dyn_levels = sorted(dyn_results.keys())\n",
    "    pos_diffs = [dyn_results[l]['position_diff'] for l in dyn_levels]\n",
    "    rew_diffs = [dyn_results[l]['reward_diff'] for l in dyn_levels]\n",
    "    \n",
    "    axs[1, 0].plot(dyn_levels, pos_diffs, 'o-')\n",
    "    axs[1, 0].set_title('Dynamics Noise Impact on Position')\n",
    "    axs[1, 0].set_xlabel('Noise Level (std)')\n",
    "    axs[1, 0].set_ylabel('Average Position Difference')\n",
    "    \n",
    "    axs[1, 1].plot(dyn_levels, rew_diffs, 'o-')\n",
    "    axs[1, 1].set_title('Dynamics Noise Impact on Reward')\n",
    "    axs[1, 1].set_xlabel('Noise Level (std)')\n",
    "    axs[1, 1].set_ylabel('Average Reward Difference')\n",
    "    \n",
    "    plt.tight_layout()\n",
    "    plt.savefig('noise_analysis.png')\n",
    "    plt.show()\n",
    "    \n",
    "    # Print recommendations\n",
    "    pos_threshold = 0.2  # threshold for reasonable position drift\n",
    "    \n",
    "    # Find reasonable observation noise\n",
    "    reasonable_obs = max([l for l, r in obs_results.items() \n",
    "                        if r['position_diff'] < pos_threshold], default=0.01)\n",
    "    \n",
    "    # Find reasonable dynamics noise\n",
    "    reasonable_dyn = max([l for l, r in dyn_results.items() \n",
    "                        if r['position_diff'] < pos_threshold], default=0.01)\n",
    "    \n",
    "    print(\"\\nRECOMMENDED NOISE LEVELS:\")\n",
    "    print(f\"Observation noise: Around {reasonable_obs:.3f}\")\n",
    "    print(f\"Dynamics noise: Around {reasonable_dyn:.3f}\")\n",
    "    print(\"\\nGuidelines:\")\n",
    "    print(\"- Low noise (~0.01): Minimal impact, good for initial training\")\n",
    "    print(\"- Medium noise (~0.05-0.1): Noticeable impact, good for robustness training\")\n",
    "    print(\"- High noise (>0.2): Significant disruption, challenging environment\")\n",
    "\n"
   ]
  },
  {
   "cell_type": "code",
   "execution_count": 86,
   "metadata": {},
   "outputs": [
    {
     "name": "stdout",
     "output_type": "stream",
     "text": [
      "[-0.58229321 -0.26330681]\n",
      "[-0.13929153 -0.09354559]\n",
      "[-0.94945933 -0.41908991]\n"
     ]
    }
   ],
   "source": [
    "args = Args()\n",
    "args.obs_noise_level = 0.0\n",
    "args.dyn_noise_level = 0.0\n",
    "scenario = load(args.scenario_name + \".py\").Scenario()\n",
    "\n",
    "env = NoisyGraphMPEEnv(args)\n",
    "# print observation space of world\n",
    "env.observation_space\n",
    "for i in range(len(env.agents)):\n",
    "    print(env.world.agents[i].state.p_pos)\n"
   ]
  },
  {
   "cell_type": "code",
   "execution_count": 87,
   "metadata": {},
   "outputs": [
    {
     "data": {
      "text/plain": [
       "([Discrete(5), Discrete(5), Discrete(5)], False, True)"
      ]
     },
     "execution_count": 87,
     "metadata": {},
     "output_type": "execute_result"
    }
   ],
   "source": [
    "# print action space of world\n",
    "env.action_space, env.discrete_action_input, env.discrete_action_space"
   ]
  },
  {
   "cell_type": "code",
   "execution_count": 88,
   "metadata": {},
   "outputs": [],
   "source": [
    "def generate_random_actions(num_agents, action_space):\n",
    "    actions = []\n",
    "    for _ in range(num_agents):\n",
    "        if isinstance(action_space, spaces.Discrete):\n",
    "            #one hot action \n",
    "            action = np.zeros(action_space.n)\n",
    "            action[np.random.randint(0, action_space.n)] = 1\n",
    "        elif isinstance(action_space, MultiDiscrete):\n",
    "            action = [np.random.randint(low, high + 1) for low, high in zip(action_space.low, action_space.high)]\n",
    "        else:\n",
    "            #type of action space\n",
    "            print(type(action_space))\n",
    "            raise NotImplementedError(\"Action space type not supported for random generation.\")\n",
    "        actions.append(action)\n",
    "    return actions\n"
   ]
  },
  {
   "cell_type": "code",
   "execution_count": 105,
   "metadata": {},
   "outputs": [
    {
     "name": "stdout",
     "output_type": "stream",
     "text": [
      "Testing observation noise levels...\n",
      "Testing dynamics noise levels...\n"
     ]
    }
   ],
   "source": [
    "# Set up environment\n",
    "args = Args()\n",
    "scenario = load(args.scenario_name + \".py\").Scenario()\n",
    "\n",
    "# Test various noise levels\n",
    "obs_noise_levels = [0.01, 0.05, 0.1, 0.2, 0.5, 1.0]\n",
    "dyn_noise_levels = [0.01, 0.05, 0.1, 0.2, 0.5, 1.0]\n",
    "\n",
    "print(\"Testing observation noise levels...\")\n",
    "obs_results = test_observation_noise(obs_noise_levels)\n",
    "\n",
    "print(\"Testing dynamics noise levels...\")\n",
    "dyn_results = test_dynamics_noise(dyn_noise_levels)\n"
   ]
  },
  {
   "cell_type": "code",
   "execution_count": 106,
   "metadata": {},
   "outputs": [
    {
     "data": {
      "image/png": "[encoded data removed]",
      "text/plain": [
       "<Figure size 1200x1000 with 4 Axes>"
      ]
     },
     "metadata": {},
     "output_type": "display_data"
    },
    {
     "name": "stdout",
     "output_type": "stream",
     "text": [
      "\n",
      "RECOMMENDED NOISE LEVELS:\n",
      "Observation noise: Around 1.000\n",
      "Dynamics noise: Around 0.200\n",
      "\n",
      "Guidelines:\n",
      "- Low noise (~0.01): Minimal impact, good for initial training\n",
      "- Medium noise (~0.05-0.1): Noticeable impact, good for robustness training\n",
      "- High noise (>0.2): Significant disruption, challenging environment\n"
     ]
    }
   ],
   "source": [
    "\n",
    "# Display results\n",
    "plot_results(obs_results, dyn_results)"
   ]
  },
  {
   "cell_type": "code",
   "execution_count": 117,
   "metadata": {},
   "outputs": [],
   "source": [
    "# without noise, 5 agents\n",
    "rewards: 208.48504107528032\n",
    "frac_episode: 0.3873333333333333\n",
    "success_rates: 1.0\n",
    "num_collisions: 1.15"
   ]
  },
  {
   "cell_type": "code",
   "execution_count": 122,
   "metadata": {},
   "outputs": [],
   "source": [
    "\n",
    "sys.path.append(os.path.abspath(os.getcwd()))\n",
    "sys.path.append(os.path.abspath(os.path.join(os.getcwd(), '..')))\n",
    "from onpolicy.scripts.eval_mpe import main "
   ]
  },
  {
   "cell_type": "code",
   "execution_count": 120,
   "metadata": {},
   "outputs": [],
   "source": [
    "# test different noise levels\n",
    "model_path = \"../onpolicy/results/GraphMPE/navigation_graph/rmappo/MAPPO_5/wandb/latest-run/files\"\n",
    "\n",
    "\n",
    "\n",
    "def test_observation_noise_policy(obs_noise_levels):\n",
    "    \"\"\"Test how observation noise affects agent observations\"\"\"\n",
    "    results = {}\n",
    "    \n",
    "    for noise_level in obs_noise_levels:\n",
    "\n",
    "        r, s_rates, n_collisions, frac = main([\"--model_dir\", model_path, \"--env_name\", \"NoisyGraphMPE\", \\\n",
    "                                       \"--render_episodes\", \"25\", \\\n",
    "                                        \"--obs_noise_level\", str(noise_level), \"--dyn_noise_level\", \"0.0\"])\n",
    "        results[noise_level] = {\n",
    "            'rewards': r,\n",
    "            'success_rates': s_rates,\n",
    "            'num_collisions': n_collisions,\n",
    "            'frac_episode': frac\n",
    "        }\n",
    "    return results\n",
    "\n",
    "def test_dynamics_noise_policy(dyn_noise_levels):\n",
    "    \"\"\"Test how observation noise affects agent observations\"\"\"\n",
    "    results = {}\n",
    "    \n",
    "    for noise_level in dyn_noise_levels:\n",
    "\n",
    "        r, s_rates, n_collisions, frac = main([\"--model_dir\", model_path, \"--env_name\", \"NoisyGraphMPE\", \\\n",
    "                                       \"--render_episodes\", \"25\", \\\n",
    "                                        \"--obs_noise_level\", \"0.0\", \"--dyn_noise_level\", str(noise_level)])\n",
    "        results[noise_level] = {\n",
    "            'rewards': r,\n",
    "            'success_rates': s_rates,\n",
    "            'num_collisions': n_collisions,\n",
    "            'frac_episode': frac\n",
    "        }\n",
    "    return results\n",
    "\n",
    "\n",
    "def plot_results_policy(obs_results, dyn_results):\n",
    "    \"\"\"Plot the results of noise testing\"\"\"\n",
    "    fig, axs = plt.subplots(2, 4, figsize=(15, 10))\n",
    "    baseline_str = '''rewards: 208.48504107528032\n",
    "    frac_episode: 0.3873333333333333\n",
    "    success_rates: 1.0\n",
    "    num_collisions: 1.15'''\n",
    "    baseline = {\"rewards\": 208.48504107528032, \"success_rates\": 1.0, \"num_collisions\": 1.15, \"frac_episode\": 0.3873333333333333}\n",
    "    \n",
    "    # Plot observation noise results\n",
    "    obs_levels = sorted(obs_results.keys())\n",
    "    rewards = [obs_results[l]['rewards'] for l in obs_levels]\n",
    "    success_rates = [obs_results[l]['success_rates'] for l in obs_levels]\n",
    "    num_collisions = [obs_results[l]['num_collisions'] for l in obs_levels]\n",
    "    frac_episode = [obs_results[l]['frac_episode'] for l in obs_levels]\n",
    "    \n",
    "    # plot baseline as horizontal line doted red\n",
    "    axs[0, 0].axhline(baseline['rewards'], color='red', linestyle='--',alpha=0.5)\n",
    "    axs[0, 1].axhline(baseline['success_rates'], color='red', linestyle='--',alpha=0.5)\n",
    "    axs[0, 2].axhline(baseline['num_collisions'], color='red', linestyle='--',alpha=0.5)\n",
    "    axs[0, 3].axhline(baseline['frac_episode'], color='red', linestyle='--',alpha=0.5)\n",
    "\n",
    "\n",
    "    axs[0, 0].plot(obs_levels, rewards, 'o-')\n",
    "    axs[0, 0].set_title('Observation Noise Impact on Rewards')\n",
    "    axs[0, 0].set_xlabel('Noise Level (std)')\n",
    "    axs[0, 0].set_ylabel('Average Rewards')\n",
    "    \n",
    "    axs[0, 1].plot(obs_levels, success_rates, 'o-')\n",
    "    axs[0, 1].set_title('Observation Noise Impact on Success Rates')\n",
    "    axs[0, 1].set_xlabel('Noise Level (std)')\n",
    "    axs[0, 1].set_ylabel('Average Success Rates')\n",
    "    \n",
    "    axs[0, 2].plot(obs_levels, num_collisions, 'o-')\n",
    "    axs[0, 2].set_title('Observation Noise Impact on Number of Collisions')\n",
    "    axs[0, 2].set_xlabel('Noise Level (std)')\n",
    "    axs[0, 2].set_ylabel('Average Number of Collisions')\n",
    "    \n",
    "    axs[0, 3].plot(obs_levels, frac_episode, 'o-')\n",
    "    axs[0, 3].set_title('Observation Noise Impact on Fraction of Episode')\n",
    "    axs[0, 3].set_xlabel('Noise Level (std)')\n",
    "    axs[0, 3].set_ylabel('Average Fraction of Episode')\n",
    "\n",
    "    # Plot dynamics noise results\n",
    "    dyn_levels = sorted(dyn_results.keys())\n",
    "    rewards = [dyn_results[l]['rewards'] for l in dyn_levels]\n",
    "    success_rates = [dyn_results[l]['success_rates'] for l in dyn_levels]\n",
    "    num_collisions = [dyn_results[l]['num_collisions'] for l in dyn_levels]\n",
    "    frac_episode = [dyn_results[l]['frac_episode'] for l in dyn_levels]\n",
    "\n",
    "\n",
    "    # plot baseline as horizontal line doted red\n",
    "    axs[1, 0].axhline(baseline['rewards'], color='red', linestyle='--',alpha=0.5)\n",
    "    axs[1, 1].axhline(baseline['success_rates'], color='red', linestyle='--',alpha=0.5)\n",
    "    axs[1, 2].axhline(baseline['num_collisions'], color='red', linestyle='--',alpha=0.5)\n",
    "    axs[1, 3].axhline(baseline['frac_episode'], color='red', linestyle='--',alpha=0.5)\n",
    "    \n",
    "    axs[1, 0].plot(dyn_levels, rewards, 'o-')\n",
    "    axs[1, 0].set_title('Dynamics Noise Impact on Rewards')\n",
    "    axs[1, 0].set_xlabel('Noise Level (std)')\n",
    "    axs[1, 0].set_ylabel('Average Rewards')\n",
    "    \n",
    "    axs[1, 1].plot(dyn_levels, success_rates, 'o-')\n",
    "    axs[1, 1].set_title('Dynamics Noise Impact on Success Rates')\n",
    "    axs[1, 1].set_xlabel('Noise Level (std)')\n",
    "    axs[1, 1].set_ylabel('Average Success Rates')\n",
    "\n",
    "    axs[1, 2].plot(dyn_levels, num_collisions, 'o-')\n",
    "    axs[1, 2].set_title('Dynamics Noise Impact on Number of Collisions')\n",
    "    axs[1, 2].set_xlabel('Noise Level (std)')\n",
    "    axs[1, 2].set_ylabel('Average Number of Collisions')\n",
    "    \n",
    "    axs[1, 3].plot(dyn_levels, frac_episode, 'o-')\n",
    "    axs[1, 3].set_title('Dynamics Noise Impact on Fraction of Episode')\n",
    "    axs[1, 3].set_xlabel('Noise Level (std)')\n",
    "    axs[1, 3].set_ylabel('Average Fraction of Episode') \n",
    "    \n",
    "    \n",
    "    plt.tight_layout()\n",
    "    plt.savefig('noise_analysis.png')\n",
    "    plt.show()\n",
    "\n"
   ]
  },
  {
   "cell_type": "code",
   "execution_count": 121,
   "metadata": {},
   "outputs": [
    {
     "name": "stdout",
     "output_type": "stream",
     "text": [
      "Testing observation noise levels...\n",
      "__________________________________________________\n",
      "Using dyn_noise_level = 0.0\n",
      "Using env_name = NoisyGraphMPE\n",
      "Using model_dir = ../onpolicy/results/GraphMPE/navigation_graph/rmappo/MAPPO_5/wandb/latest-run/files\n",
      "Using obs_noise_level = 0.1\n",
      "Using render_episodes = 25\n",
      "Using save_gifs = False\n",
      "__________________________________________________\n",
      "Overriding Observation dimension\n",
      "Overriding Observation dimension\n",
      "Restoring from checkpoint stored in ../onpolicy/results/GraphMPE/navigation_graph/rmappo/MAPPO_5/wandb/latest-run/files\n",
      "[-2.3333319201514726, 9.550905513817632, 62.35376214620125, 59.52863460821997, 49.33967579312896, -35.92787150817081, -26.71995536608886, -49.36698021357766, 47.6438242644304, 61.26422392674034, 37.78562194896101, 62.78449849519584, 14.14653706482106, 126.46056910502944, 71.2580641638105, -6.976983968263878, 58.57244127740264, 28.22805892236439, 1.940375766409618, 102.994809892952, 14.207923726996388, 54.14172109321565, 16.69782314025551, 79.60596138458632, -0.28407427110382943]\n",
      "[0.592, 0.6880000000000001, 0.44799999999999995, 0.32799999999999996, 0.5519999999999999, 0.6319999999999999, 0.608, 0.6799999999999999, 0.544, 0.512, 0.608, 0.352, 0.5760000000000001, 0.28800000000000003, 0.656, 0.7120000000000001, 0.512, 0.5599999999999999, 0.656, 0.52, 0.576, 0.5599999999999999, 0.496, 0.5279999999999999, 0.5599999999999999]\n",
      "[True, True, False, True, True, True, True, False, True, True, True, True, False, True, True, False, True, True, False, True, True, True, False, True, True]\n",
      "[7.0, 1.0, 2.0, 7.0, 1.0, 11.0, 12.0, 13.0, 7.0, 6.0, 4.0, 7.0, 8.0, 0.0, 1.0, 8.0, 3.0, 3.0, 5.0, 0.0, 4.0, 2.0, 6.0, 6.0, 3.0]\n",
      "rewards: 33.4758493994873\n",
      "frac_episode: 0.54976\n",
      "success_rates: 0.76\n",
      "num_collisions: 5.08\n"
     ]
    },
    {
     "ename": "TypeError",
     "evalue": "cannot unpack non-iterable NoneType object",
     "output_type": "error",
     "traceback": [
      "\u001b[0;31m---------------------------------------------------------------------------\u001b[0m",
      "\u001b[0;31mTypeError\u001b[0m                                 Traceback (most recent call last)",
      "Cell \u001b[0;32mIn[121], line 6\u001b[0m\n\u001b[1;32m      3\u001b[0m dyn_noise_levels \u001b[38;5;241m=\u001b[39m [\u001b[38;5;241m0.1\u001b[39m]\u001b[38;5;66;03m#, 0.05, 0.1, 0.2, 0.5, 1.0]\u001b[39;00m\n\u001b[1;32m      5\u001b[0m \u001b[38;5;28mprint\u001b[39m(\u001b[38;5;124m\"\u001b[39m\u001b[38;5;124mTesting observation noise levels...\u001b[39m\u001b[38;5;124m\"\u001b[39m)\n\u001b[0;32m----> 6\u001b[0m obs_results \u001b[38;5;241m=\u001b[39m \u001b[43mtest_observation_noise_policy\u001b[49m\u001b[43m(\u001b[49m\u001b[43mobs_noise_levels\u001b[49m\u001b[43m)\u001b[49m\n\u001b[1;32m      8\u001b[0m \u001b[38;5;28mprint\u001b[39m(\u001b[38;5;124m\"\u001b[39m\u001b[38;5;124mTesting dynamics noise levels...\u001b[39m\u001b[38;5;124m\"\u001b[39m)\n\u001b[1;32m      9\u001b[0m dyn_results \u001b[38;5;241m=\u001b[39m test_dynamics_noise_policy(dyn_noise_levels)\n",
      "Cell \u001b[0;32mIn[120], line 12\u001b[0m, in \u001b[0;36mtest_observation_noise_policy\u001b[0;34m(obs_noise_levels)\u001b[0m\n\u001b[1;32m      8\u001b[0m results \u001b[38;5;241m=\u001b[39m {}\n\u001b[1;32m     10\u001b[0m \u001b[38;5;28;01mfor\u001b[39;00m noise_level \u001b[38;5;129;01min\u001b[39;00m obs_noise_levels:\n\u001b[0;32m---> 12\u001b[0m     r, s_rates, n_collisions, frac \u001b[38;5;241m=\u001b[39m main([\u001b[38;5;124m\"\u001b[39m\u001b[38;5;124m--model_dir\u001b[39m\u001b[38;5;124m\"\u001b[39m, model_path, \u001b[38;5;124m\"\u001b[39m\u001b[38;5;124m--env_name\u001b[39m\u001b[38;5;124m\"\u001b[39m, \u001b[38;5;124m\"\u001b[39m\u001b[38;5;124mNoisyGraphMPE\u001b[39m\u001b[38;5;124m\"\u001b[39m, \\\n\u001b[1;32m     13\u001b[0m                                    \u001b[38;5;124m\"\u001b[39m\u001b[38;5;124m--render_episodes\u001b[39m\u001b[38;5;124m\"\u001b[39m, \u001b[38;5;124m\"\u001b[39m\u001b[38;5;124m25\u001b[39m\u001b[38;5;124m\"\u001b[39m, \\\n\u001b[1;32m     14\u001b[0m                                     \u001b[38;5;124m\"\u001b[39m\u001b[38;5;124m--obs_noise_level\u001b[39m\u001b[38;5;124m\"\u001b[39m, \u001b[38;5;28mstr\u001b[39m(noise_level), \u001b[38;5;124m\"\u001b[39m\u001b[38;5;124m--dyn_noise_level\u001b[39m\u001b[38;5;124m\"\u001b[39m, \u001b[38;5;124m\"\u001b[39m\u001b[38;5;124m0.0\u001b[39m\u001b[38;5;124m\"\u001b[39m])\n\u001b[1;32m     15\u001b[0m     results[noise_level] \u001b[38;5;241m=\u001b[39m {\n\u001b[1;32m     16\u001b[0m         \u001b[38;5;124m'\u001b[39m\u001b[38;5;124mrewards\u001b[39m\u001b[38;5;124m'\u001b[39m: r,\n\u001b[1;32m     17\u001b[0m         \u001b[38;5;124m'\u001b[39m\u001b[38;5;124msuccess_rates\u001b[39m\u001b[38;5;124m'\u001b[39m: s_rates,\n\u001b[1;32m     18\u001b[0m         \u001b[38;5;124m'\u001b[39m\u001b[38;5;124mnum_collisions\u001b[39m\u001b[38;5;124m'\u001b[39m: n_collisions,\n\u001b[1;32m     19\u001b[0m         \u001b[38;5;124m'\u001b[39m\u001b[38;5;124mfrac_episode\u001b[39m\u001b[38;5;124m'\u001b[39m: frac\n\u001b[1;32m     20\u001b[0m     }\n\u001b[1;32m     21\u001b[0m \u001b[38;5;28;01mreturn\u001b[39;00m results\n",
      "\u001b[0;31mTypeError\u001b[0m: cannot unpack non-iterable NoneType object"
     ]
    }
   ],
   "source": [
    "\n",
    "# Test various noise levels\n",
    "obs_noise_levels = [0.1]#, 0.05, 0.1, 0.2, 0.5, 1.0]\n",
    "dyn_noise_levels = [0.1]#, 0.05, 0.1, 0.2, 0.5, 1.0]\n",
    "\n",
    "print(\"Testing observation noise levels...\")\n",
    "obs_results = test_observation_noise_policy(obs_noise_levels)\n",
    "\n",
    "print(\"Testing dynamics noise levels...\")\n",
    "dyn_results = test_dynamics_noise_policy(dyn_noise_levels)\n",
    "\n",
    "plot_results_policy(obs_results, dyn_results)\n"
   ]
  },
  {
   "cell_type": "code",
   "execution_count": null,
   "metadata": {},
   "outputs": [],
   "source": [
    "\n",
    "rewards: 184.64693701481806\n",
    "frac_episode: 0.42000000000000004\n",
    "success_rates: 1.0\n",
    "num_collisions: 2.45"
   ]
  }
 ],
 "metadata": {
  "kernelspec": {
   "display_name": "Python (rl)",
   "language": "python",
   "name": "rl"
  },
  "language_info": {
   "codemirror_mode": {
    "name": "ipython",
    "version": 3
   },
   "file_extension": ".py",
   "mimetype": "text/x-python",
   "name": "python",
   "nbconvert_exporter": "python",
   "pygments_lexer": "ipython3",
   "version": "3.10.16"
  }
 },
 "nbformat": 4,
 "nbformat_minor": 2
}
